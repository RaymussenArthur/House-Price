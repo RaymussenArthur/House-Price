{
 "cells": [
  {
   "cell_type": "markdown",
   "id": "109ddc53",
   "metadata": {},
   "source": [
    "## Model for predicting house prices\n",
    "This notebook documents the process of building, training, and evaluating a machine learning model for predicting house prices using various input features."
   ]
  },
  {
   "cell_type": "code",
   "execution_count": null,
   "id": "14265f25",
   "metadata": {},
   "outputs": [],
   "source": []
  }
 ],
 "metadata": {
  "language_info": {
   "name": "python"
  }
 },
 "nbformat": 4,
 "nbformat_minor": 5
}
