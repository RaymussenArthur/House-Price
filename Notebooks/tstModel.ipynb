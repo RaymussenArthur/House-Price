{
 "cells": [
  {
   "cell_type": "code",
   "execution_count": 9,
   "id": "4ccd1536",
   "metadata": {},
   "outputs": [
    {
     "name": "stdout",
     "output_type": "stream",
     "text": [
      "0       209688.808347\n",
      "1       196775.177508\n",
      "2       223528.011156\n",
      "3       176998.304910\n",
      "4       303057.218892\n",
      "            ...      \n",
      "1455    178427.688918\n",
      "1456    200877.414513\n",
      "1457    243342.674410\n",
      "1458    144393.329887\n",
      "1459    137722.070191\n",
      "Length: 1460, dtype: float64\n",
      "0       208500\n",
      "1       181500\n",
      "2       223500\n",
      "3       140000\n",
      "4       250000\n",
      "         ...  \n",
      "1455    175000\n",
      "1456    210000\n",
      "1457    266500\n",
      "1458    142125\n",
      "1459    147500\n",
      "Name: SalePrice, Length: 1460, dtype: int64\n"
     ]
    }
   ],
   "source": [
    "import joblib\n",
    "import pandas as pd\n",
    "import numpy as np\n",
    "\n",
    "pipeline_Ridge = joblib.load('../Results/ridge_regression_pipeline.joblib')\n",
    "\n",
    "df = pd.read_csv('../Data/cleaned_train.csv')\n",
    "\n",
    "predictions_log = pipeline_Ridge.predict(df)\n",
    "predictions = pd.Series(predictions_log).apply(lambda x: max(0, x))  # Clamp negatives if needed\n",
    "predicted_prices = predictions.apply(lambda x: np.expm1(x))  # If model was trained on log prices\n",
    "\n",
    "print(predicted_prices)\n",
    "print(df.SalePrice)"
   ]
  }
 ],
 "metadata": {
  "kernelspec": {
   "display_name": "base",
   "language": "python",
   "name": "python3"
  },
  "language_info": {
   "codemirror_mode": {
    "name": "ipython",
    "version": 3
   },
   "file_extension": ".py",
   "mimetype": "text/x-python",
   "name": "python",
   "nbconvert_exporter": "python",
   "pygments_lexer": "ipython3",
   "version": "3.12.3"
  }
 },
 "nbformat": 4,
 "nbformat_minor": 5
}
