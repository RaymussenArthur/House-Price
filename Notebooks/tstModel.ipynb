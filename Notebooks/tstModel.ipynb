{
 "cells": [
  {
   "cell_type": "code",
   "execution_count": 1,
   "id": "4ccd1536",
   "metadata": {},
   "outputs": [
    {
     "name": "stdout",
     "output_type": "stream",
     "text": [
      "Predictions saved to ../Results/GBM Result/GBM_Test_predicted_saleprice.csv\n"
     ]
    }
   ],
   "source": [
    "import joblib\n",
    "import pandas as pd\n",
    "import numpy as np\n",
    "\n",
    "pipeline_GBM = joblib.load('../Results/GBM Result/lightGBM_regression_pipeline.joblib')\n",
    "\n",
    "df = pd.read_csv('../Data/cleaned_test.csv')\n",
    "\n",
    "test_ids = df['Id'] if 'Id' in df.columns else pd.Series(range(1, len(df)+1))\n",
    "\n",
    "predictions_log = pipeline_GBM.predict(df)\n",
    "predictions = pd.Series(predictions_log).apply(lambda x: max(0, x))  # Clamp negatives if needed\n",
    "predicted_prices = predictions.apply(lambda x: np.expm1(x))  \n",
    "\n",
    "output = pd.DataFrame({'Id': test_ids, 'SalePrice': predicted_prices})\n",
    "output.to_csv('../Results/GBM Result/GBM_Test_predicted_saleprice.csv', index=False)\n",
    "print('Predictions saved to ../Results/GBM Result/GBM_Test_predicted_saleprice.csv')"
   ]
  },
  {
   "cell_type": "code",
   "execution_count": 2,
   "id": "10c5279b",
   "metadata": {},
   "outputs": [
    {
     "name": "stdout",
     "output_type": "stream",
     "text": [
      "Predictions saved to ../Results/Tuned GBM/TunedGBM3_test_predicted_saleprice.csv\n"
     ]
    }
   ],
   "source": [
    "import joblib\n",
    "import pandas as pd\n",
    "import numpy as np\n",
    "\n",
    "pipeline_best_Ridge = joblib.load('../Results/Tuned GBM/Tuned3.joblib')\n",
    "\n",
    "df = pd.read_csv('../Data/cleaned_test.csv')\n",
    "\n",
    "test_ids = df['Id'] if 'Id' in df.columns else pd.Series(range(1, len(df)+1))\n",
    "\n",
    "predictions_log = pipeline_best_Ridge.predict(df)\n",
    "predictions = pd.Series(predictions_log).apply(lambda x: max(0, x))  # Clamp negatives if needed\n",
    "predicted_prices = predictions.apply(lambda x: np.expm1(x)) \n",
    "\n",
    "output = pd.DataFrame({'Id': test_ids, 'SalePrice': predicted_prices})\n",
    "output.to_csv('../Results/Tuned GBM/TunedGBM3_test_predicted_saleprice.csv', index=False)\n",
    "print('Predictions saved to ../Results/Tuned GBM/TunedGBM3_test_predicted_saleprice.csv')\n"
   ]
  }
 ],
 "metadata": {
  "kernelspec": {
   "display_name": "base",
   "language": "python",
   "name": "python3"
  },
  "language_info": {
   "codemirror_mode": {
    "name": "ipython",
    "version": 3
   },
   "file_extension": ".py",
   "mimetype": "text/x-python",
   "name": "python",
   "nbconvert_exporter": "python",
   "pygments_lexer": "ipython3",
   "version": "3.12.7"
  }
 },
 "nbformat": 4,
 "nbformat_minor": 5
}
