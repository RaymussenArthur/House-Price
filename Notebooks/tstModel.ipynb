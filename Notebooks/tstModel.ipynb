{
 "cells": [
  {
   "cell_type": "code",
   "execution_count": 18,
   "id": "4ccd1536",
   "metadata": {},
   "outputs": [
    {
     "name": "stdout",
     "output_type": "stream",
     "text": [
      "0       109952.935069\n",
      "1       138520.908093\n",
      "2       167333.140318\n",
      "3       189433.657664\n",
      "4       197395.490198\n",
      "            ...      \n",
      "1454     82361.910412\n",
      "1455     85405.091427\n",
      "1456    156168.820525\n",
      "1457    112245.311492\n",
      "1458    222790.880499\n",
      "Length: 1459, dtype: float64\n"
     ]
    }
   ],
   "source": [
    "import joblib\n",
    "import pandas as pd\n",
    "import numpy as np\n",
    "\n",
    "pipeline_Ridge = joblib.load('../Results/ridge_regression_pipeline.joblib')\n",
    "\n",
    "df = pd.read_csv('../Data/cleaned_test.csv')\n",
    "\n",
    "predictions_log = pipeline_Ridge.predict(df)\n",
    "predictions = pd.Series(predictions_log).apply(lambda x: max(0, x))  # Clamp negatives if needed\n",
    "predicted_prices = predictions.apply(lambda x: np.expm1(x))  # If model was trained on log prices\n",
    "\n",
    "print(predicted_prices)\n",
    "df.to_csv('../Results/Test_predicted_saleprice.csv', index=False)"
   ]
  }
 ],
 "metadata": {
  "kernelspec": {
   "display_name": "base",
   "language": "python",
   "name": "python3"
  },
  "language_info": {
   "codemirror_mode": {
    "name": "ipython",
    "version": 3
   },
   "file_extension": ".py",
   "mimetype": "text/x-python",
   "name": "python",
   "nbconvert_exporter": "python",
   "pygments_lexer": "ipython3",
   "version": "3.12.3"
  }
 },
 "nbformat": 4,
 "nbformat_minor": 5
}
